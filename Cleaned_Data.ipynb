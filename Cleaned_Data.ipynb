{
 "cells": [
  {
   "cell_type": "markdown",
   "id": "ebfc7839",
   "metadata": {},
   "source": [
    "# Cleaning Data"
   ]
  },
  {
   "cell_type": "markdown",
   "id": "723af898",
   "metadata": {},
   "source": [
    "### Reading CSV File "
   ]
  },
  {
   "cell_type": "code",
   "execution_count": 1,
   "id": "cfc5c52f",
   "metadata": {},
   "outputs": [],
   "source": [
    "import re\n",
    "import pandas as pd\n",
    "from datetime import datetime\n",
    "from datetime import date"
   ]
  },
  {
   "cell_type": "code",
   "execution_count": 2,
   "id": "23cada29",
   "metadata": {},
   "outputs": [],
   "source": [
    "# Read in the Fuel Rates data from the CSV file\n",
    "fuel_rates = pd.read_csv('/Users/sheelatookhy/Documents/Fuel/Data/15b54ed9-f711-45c8-bd87-30eb626f7c0a.csv')"
   ]
  },
  {
   "cell_type": "code",
   "execution_count": 3,
   "id": "195682d6",
   "metadata": {},
   "outputs": [
    {
     "name": "stdout",
     "output_type": "stream",
     "text": [
      "         _id                 Date  Ottawa  Toronto West/Ouest  \\\n",
      "0          1  1990-01-03T00:00:00    55.9                49.1   \n",
      "1       1733  1990-01-03T00:00:00    49.3                47.6   \n",
      "2       3465  1990-01-03T00:00:00     0.0                 0.0   \n",
      "3       5109  1990-01-03T00:00:00    58.3                51.1   \n",
      "4       6841  1990-01-03T00:00:00    59.5                52.9   \n",
      "...      ...                  ...     ...                 ...   \n",
      "10299   3464  2023-03-06T00:00:00   171.4               168.6   \n",
      "10300   5108  2023-03-06T00:00:00     0.0                 0.0   \n",
      "10301   6840  2023-03-06T00:00:00   169.5               168.8   \n",
      "10302   8572  2023-03-06T00:00:00   176.1               177.5   \n",
      "10303  10304  2023-03-06T00:00:00   139.9                89.9   \n",
      "\n",
      "       Toronto East/Est  Windsor  London  Peterborough  St. Catharine's  \\\n",
      "0                  48.7     45.2    50.1           0.0              0.0   \n",
      "1                  48.3     46.5    47.2           0.0              0.0   \n",
      "2                   0.0      0.0     0.0           0.0              0.0   \n",
      "3                  51.0     47.4    52.3           0.0              0.0   \n",
      "4                  52.7     49.2    54.0           0.0              0.0   \n",
      "...                 ...      ...     ...           ...              ...   \n",
      "10299             166.3    164.8   164.7         166.1            163.5   \n",
      "10300               0.0     83.7    87.0           0.0              0.0   \n",
      "10301             168.6    167.2   166.9         160.0            164.1   \n",
      "10302             175.4    173.3   175.9         167.0            171.9   \n",
      "10303              79.9     99.9   119.9           0.0              0.0   \n",
      "\n",
      "       Sudbury  ...  Thunder Bay  North Bay  Timmins  Kenora  Parry Sound  \\\n",
      "0         56.4  ...         56.6       55.1     58.1     0.0          0.0   \n",
      "1         45.4  ...         46.6       46.2     47.2     0.0          0.0   \n",
      "2          0.0  ...          0.0        0.0      0.0     0.0          0.0   \n",
      "3         58.6  ...         58.7       57.5      0.0     0.0          0.0   \n",
      "4         60.2  ...         60.4       58.7    128.9     0.0          0.0   \n",
      "...        ...  ...          ...        ...      ...     ...          ...   \n",
      "10299    169.0  ...        171.1      174.0    183.0   180.7        169.8   \n",
      "10300      0.0  ...          0.0        0.0      0.0     0.0          0.0   \n",
      "10301    161.3  ...        172.0      162.9    168.4   170.1        160.2   \n",
      "10302    169.2  ...        180.1      170.6    176.6   177.6        166.8   \n",
      "10303      0.0  ...        119.0        0.0      0.0   120.0          0.0   \n",
      "\n",
      "       Ontario Average/Moyenne provinciale  \\\n",
      "0                                     50.3   \n",
      "1                                     47.7   \n",
      "2                                      0.0   \n",
      "3                                     52.5   \n",
      "4                                     54.1   \n",
      "...                                    ...   \n",
      "10299                                168.4   \n",
      "10300                                 85.7   \n",
      "10301                                168.0   \n",
      "10302                                175.6   \n",
      "10303                                101.2   \n",
      "\n",
      "       Southern Average/Moyenne du sud de l'Ontario  \\\n",
      "0                                              49.5   \n",
      "1                                              47.9   \n",
      "2                                               0.0   \n",
      "3                                              51.7   \n",
      "4                                              53.4   \n",
      "...                                             ...   \n",
      "10299                                         167.7   \n",
      "10300                                           0.0   \n",
      "10301                                         168.3   \n",
      "10302                                         175.8   \n",
      "10303                                         100.4   \n",
      "\n",
      "       Northern Average/Moyenne du nord de l'Ontario  \\\n",
      "0                                               56.2   \n",
      "1                                               46.2   \n",
      "2                                                0.0   \n",
      "3                                               58.5   \n",
      "4                                               59.9   \n",
      "...                                              ...   \n",
      "10299                                          173.8   \n",
      "10300                                            0.0   \n",
      "10301                                          165.9   \n",
      "10302                                          173.8   \n",
      "10303                                          119.1   \n",
      "\n",
      "                       Fuel Type    Type de carburant  \n",
      "0      Regular Unleaded Gasoline   Essence sans plomb  \n",
      "1                         Diesel               Diesel  \n",
      "2         Compressed Natural Gas  Gaz naturel comprim  \n",
      "3             Mid-Grade Gasoline  Essence intermdaire  \n",
      "4               Premium Gasoline        Essence super  \n",
      "...                          ...                  ...  \n",
      "10299                     Diesel               Diesel  \n",
      "10300     Compressed Natural Gas  Gaz naturel comprim  \n",
      "10301         Mid-Grade Gasoline  Essence intermdaire  \n",
      "10302           Premium Gasoline        Essence super  \n",
      "10303               Auto Propane   Propane automobile  \n",
      "\n",
      "[10304 rows x 21 columns]\n"
     ]
    }
   ],
   "source": [
    "print (fuel_rates)"
   ]
  },
  {
   "cell_type": "code",
   "execution_count": 4,
   "id": "196fc57f",
   "metadata": {},
   "outputs": [
    {
     "data": {
      "text/plain": [
       "Index(['_id', 'Date', 'Ottawa', 'Toronto West/Ouest', 'Toronto East/Est',\n",
       "       'Windsor', 'London', 'Peterborough', 'St. Catharine's', 'Sudbury',\n",
       "       'Sault Saint Marie', 'Thunder Bay', 'North Bay', 'Timmins', 'Kenora',\n",
       "       'Parry Sound', 'Ontario Average/Moyenne provinciale',\n",
       "       'Southern Average/Moyenne du sud de l'Ontario',\n",
       "       'Northern Average/Moyenne du nord de l'Ontario', 'Fuel Type',\n",
       "       'Type de carburant'],\n",
       "      dtype='object')"
      ]
     },
     "execution_count": 4,
     "metadata": {},
     "output_type": "execute_result"
    }
   ],
   "source": [
    "# Print Columns\n",
    "fuel_rates.columns"
   ]
  },
  {
   "cell_type": "markdown",
   "id": "9b640659",
   "metadata": {},
   "source": [
    "### Deleting Columns"
   ]
  },
  {
   "cell_type": "code",
   "execution_count": 5,
   "id": "68b33788",
   "metadata": {},
   "outputs": [],
   "source": [
    "# Drop the columns to delete\n",
    "fuel_rates = fuel_rates.drop(['_id', 'Type de carburant'], axis=1)"
   ]
  },
  {
   "cell_type": "code",
   "execution_count": 6,
   "id": "74d9aeff",
   "metadata": {},
   "outputs": [
    {
     "data": {
      "text/plain": [
       "Index(['Date', 'Ottawa', 'Toronto West/Ouest', 'Toronto East/Est', 'Windsor',\n",
       "       'London', 'Peterborough', 'St. Catharine's', 'Sudbury',\n",
       "       'Sault Saint Marie', 'Thunder Bay', 'North Bay', 'Timmins', 'Kenora',\n",
       "       'Parry Sound', 'Ontario Average/Moyenne provinciale',\n",
       "       'Southern Average/Moyenne du sud de l'Ontario',\n",
       "       'Northern Average/Moyenne du nord de l'Ontario', 'Fuel Type'],\n",
       "      dtype='object')"
      ]
     },
     "execution_count": 6,
     "metadata": {},
     "output_type": "execute_result"
    }
   ],
   "source": [
    "# Print Columns\n",
    "fuel_rates.columns"
   ]
  },
  {
   "cell_type": "markdown",
   "id": "6b1bac0e",
   "metadata": {},
   "source": [
    "### Modifying Columns Names"
   ]
  },
  {
   "cell_type": "code",
   "execution_count": 7,
   "id": "7f7436fc",
   "metadata": {},
   "outputs": [],
   "source": [
    "# Remove single quotes from column names\n",
    "fuel_rates = fuel_rates.rename(columns=lambda x: x.replace(\"St. Catharine's\", \"St. Catharines\").replace(\"Southern Average/Moyenne du sud de l'Ontario\", \"Southern Average/Moyenne du sud de lOntario\").replace(\"Northern Average/Moyenne du nord de l'Ontario\", \"Northern Average/Moyenne du nord de lOntario\"))"
   ]
  },
  {
   "cell_type": "code",
   "execution_count": 8,
   "id": "3c58385d",
   "metadata": {},
   "outputs": [],
   "source": [
    "# Rename the columns\n",
    "fuel_rates = fuel_rates.rename(columns={'Toronto West/Ouest': 'Toronto_West', 'Toronto East/Est': 'Toronto_East', 'St. Catharines': 'St_Catharines', 'Sault Saint Marie': 'Sault_Saint_Marie','Thunder Bay': 'Thunder_Bay','North Bay': 'North_Bay','Parry Sound': 'Parry_Sound','Ontario Average/Moyenne provinciale': 'Ontario_Average','Southern Average/Moyenne du sud de lOntario': 'Southern_Ont_Average','Northern Average/Moyenne du nord de lOntario': 'Northern_Ont_Average'})"
   ]
  },
  {
   "cell_type": "code",
   "execution_count": 9,
   "id": "32a1ce9f",
   "metadata": {},
   "outputs": [
    {
     "data": {
      "text/plain": [
       "Index(['Date', 'Ottawa', 'Toronto_West', 'Toronto_East', 'Windsor', 'London',\n",
       "       'Peterborough', 'St_Catharines', 'Sudbury', 'Sault_Saint_Marie',\n",
       "       'Thunder_Bay', 'North_Bay', 'Timmins', 'Kenora', 'Parry_Sound',\n",
       "       'Ontario_Average', 'Southern_Ont_Average', 'Northern_Ont_Average',\n",
       "       'Fuel Type'],\n",
       "      dtype='object')"
      ]
     },
     "execution_count": 9,
     "metadata": {},
     "output_type": "execute_result"
    }
   ],
   "source": [
    "# Print Columns\n",
    "fuel_rates.columns"
   ]
  },
  {
   "cell_type": "code",
   "execution_count": 10,
   "id": "9d842d90",
   "metadata": {},
   "outputs": [
    {
     "name": "stdout",
     "output_type": "stream",
     "text": [
      "                      Date  Ottawa  Toronto_West  Toronto_East  Windsor  \\\n",
      "0      1990-01-03T00:00:00    55.9          49.1          48.7     45.2   \n",
      "1      1990-01-03T00:00:00    49.3          47.6          48.3     46.5   \n",
      "2      1990-01-03T00:00:00     0.0           0.0           0.0      0.0   \n",
      "3      1990-01-03T00:00:00    58.3          51.1          51.0     47.4   \n",
      "4      1990-01-03T00:00:00    59.5          52.9          52.7     49.2   \n",
      "...                    ...     ...           ...           ...      ...   \n",
      "10299  2023-03-06T00:00:00   171.4         168.6         166.3    164.8   \n",
      "10300  2023-03-06T00:00:00     0.0           0.0           0.0     83.7   \n",
      "10301  2023-03-06T00:00:00   169.5         168.8         168.6    167.2   \n",
      "10302  2023-03-06T00:00:00   176.1         177.5         175.4    173.3   \n",
      "10303  2023-03-06T00:00:00   139.9          89.9          79.9     99.9   \n",
      "\n",
      "       London  Peterborough  St_Catharines  Sudbury  Sault_Saint_Marie  \\\n",
      "0        50.1           0.0            0.0     56.4               54.8   \n",
      "1        47.2           0.0            0.0     45.4               45.8   \n",
      "2         0.0           0.0            0.0      0.0                0.0   \n",
      "3        52.3           0.0            0.0     58.6               57.6   \n",
      "4        54.0           0.0            0.0     60.2               58.6   \n",
      "...       ...           ...            ...      ...                ...   \n",
      "10299   164.7         166.1          163.5    169.0              182.0   \n",
      "10300    87.0           0.0            0.0      0.0                0.0   \n",
      "10301   166.9         160.0          164.1    161.3              164.2   \n",
      "10302   175.9         167.0          171.9    169.2              172.0   \n",
      "10303   119.9           0.0            0.0      0.0                0.0   \n",
      "\n",
      "       Thunder_Bay  North_Bay  Timmins  Kenora  Parry_Sound  Ontario_Average  \\\n",
      "0             56.6       55.1     58.1     0.0          0.0             50.3   \n",
      "1             46.6       46.2     47.2     0.0          0.0             47.7   \n",
      "2              0.0        0.0      0.0     0.0          0.0              0.0   \n",
      "3             58.7       57.5      0.0     0.0          0.0             52.5   \n",
      "4             60.4       58.7    128.9     0.0          0.0             54.1   \n",
      "...            ...        ...      ...     ...          ...              ...   \n",
      "10299        171.1      174.0    183.0   180.7        169.8            168.4   \n",
      "10300          0.0        0.0      0.0     0.0          0.0             85.7   \n",
      "10301        172.0      162.9    168.4   170.1        160.2            168.0   \n",
      "10302        180.1      170.6    176.6   177.6        166.8            175.6   \n",
      "10303        119.0        0.0      0.0   120.0          0.0            101.2   \n",
      "\n",
      "       Southern_Ont_Average  Northern_Ont_Average                  Fuel Type  \n",
      "0                      49.5                  56.2  Regular Unleaded Gasoline  \n",
      "1                      47.9                  46.2                     Diesel  \n",
      "2                       0.0                   0.0     Compressed Natural Gas  \n",
      "3                      51.7                  58.5         Mid-Grade Gasoline  \n",
      "4                      53.4                  59.9           Premium Gasoline  \n",
      "...                     ...                   ...                        ...  \n",
      "10299                 167.7                 173.8                     Diesel  \n",
      "10300                   0.0                   0.0     Compressed Natural Gas  \n",
      "10301                 168.3                 165.9         Mid-Grade Gasoline  \n",
      "10302                 175.8                 173.8           Premium Gasoline  \n",
      "10303                 100.4                 119.1               Auto Propane  \n",
      "\n",
      "[10304 rows x 19 columns]\n"
     ]
    }
   ],
   "source": [
    "print (fuel_rates)"
   ]
  },
  {
   "cell_type": "markdown",
   "id": "677e48e1",
   "metadata": {},
   "source": [
    "### Removing Timestamp from Date Column"
   ]
  },
  {
   "cell_type": "code",
   "execution_count": 11,
   "id": "e56c9d49",
   "metadata": {},
   "outputs": [
    {
     "name": "stdout",
     "output_type": "stream",
     "text": [
      "0        1990-01-03T00:00:00\n",
      "1        1990-01-03T00:00:00\n",
      "2        1990-01-03T00:00:00\n",
      "3        1990-01-03T00:00:00\n",
      "4        1990-01-03T00:00:00\n",
      "                ...         \n",
      "10299    2023-03-06T00:00:00\n",
      "10300    2023-03-06T00:00:00\n",
      "10301    2023-03-06T00:00:00\n",
      "10302    2023-03-06T00:00:00\n",
      "10303    2023-03-06T00:00:00\n",
      "Name: Date, Length: 10304, dtype: object\n"
     ]
    }
   ],
   "source": [
    "print (fuel_rates.Date)"
   ]
  },
  {
   "cell_type": "code",
   "execution_count": 12,
   "id": "badd1564",
   "metadata": {},
   "outputs": [],
   "source": [
    "# Convert the datetime column to pandas datetime format\n",
    "fuel_rates['Date'] = pd.to_datetime(fuel_rates['Date'])"
   ]
  },
  {
   "cell_type": "code",
   "execution_count": 13,
   "id": "00363a8c",
   "metadata": {},
   "outputs": [],
   "source": [
    "# Remove the time component from the datetime column\n",
    "fuel_rates['Date'] = fuel_rates['Date'].dt.date"
   ]
  },
  {
   "cell_type": "code",
   "execution_count": 14,
   "id": "e55caf6a",
   "metadata": {},
   "outputs": [
    {
     "name": "stdout",
     "output_type": "stream",
     "text": [
      "0        1990-01-03\n",
      "1        1990-01-03\n",
      "2        1990-01-03\n",
      "3        1990-01-03\n",
      "4        1990-01-03\n",
      "            ...    \n",
      "10299    2023-03-06\n",
      "10300    2023-03-06\n",
      "10301    2023-03-06\n",
      "10302    2023-03-06\n",
      "10303    2023-03-06\n",
      "Name: Date, Length: 10304, dtype: object\n"
     ]
    }
   ],
   "source": [
    "print (fuel_rates.Date)"
   ]
  },
  {
   "cell_type": "code",
   "execution_count": 15,
   "id": "b9f1f0de",
   "metadata": {},
   "outputs": [
    {
     "name": "stdout",
     "output_type": "stream",
     "text": [
      "             Date  Ottawa  Toronto_West  Toronto_East  Windsor  London  \\\n",
      "0      1990-01-03    55.9          49.1          48.7     45.2    50.1   \n",
      "1      1990-01-03    49.3          47.6          48.3     46.5    47.2   \n",
      "2      1990-01-03     0.0           0.0           0.0      0.0     0.0   \n",
      "3      1990-01-03    58.3          51.1          51.0     47.4    52.3   \n",
      "4      1990-01-03    59.5          52.9          52.7     49.2    54.0   \n",
      "...           ...     ...           ...           ...      ...     ...   \n",
      "10299  2023-03-06   171.4         168.6         166.3    164.8   164.7   \n",
      "10300  2023-03-06     0.0           0.0           0.0     83.7    87.0   \n",
      "10301  2023-03-06   169.5         168.8         168.6    167.2   166.9   \n",
      "10302  2023-03-06   176.1         177.5         175.4    173.3   175.9   \n",
      "10303  2023-03-06   139.9          89.9          79.9     99.9   119.9   \n",
      "\n",
      "       Peterborough  St_Catharines  Sudbury  Sault_Saint_Marie  Thunder_Bay  \\\n",
      "0               0.0            0.0     56.4               54.8         56.6   \n",
      "1               0.0            0.0     45.4               45.8         46.6   \n",
      "2               0.0            0.0      0.0                0.0          0.0   \n",
      "3               0.0            0.0     58.6               57.6         58.7   \n",
      "4               0.0            0.0     60.2               58.6         60.4   \n",
      "...             ...            ...      ...                ...          ...   \n",
      "10299         166.1          163.5    169.0              182.0        171.1   \n",
      "10300           0.0            0.0      0.0                0.0          0.0   \n",
      "10301         160.0          164.1    161.3              164.2        172.0   \n",
      "10302         167.0          171.9    169.2              172.0        180.1   \n",
      "10303           0.0            0.0      0.0                0.0        119.0   \n",
      "\n",
      "       North_Bay  Timmins  Kenora  Parry_Sound  Ontario_Average  \\\n",
      "0           55.1     58.1     0.0          0.0             50.3   \n",
      "1           46.2     47.2     0.0          0.0             47.7   \n",
      "2            0.0      0.0     0.0          0.0              0.0   \n",
      "3           57.5      0.0     0.0          0.0             52.5   \n",
      "4           58.7    128.9     0.0          0.0             54.1   \n",
      "...          ...      ...     ...          ...              ...   \n",
      "10299      174.0    183.0   180.7        169.8            168.4   \n",
      "10300        0.0      0.0     0.0          0.0             85.7   \n",
      "10301      162.9    168.4   170.1        160.2            168.0   \n",
      "10302      170.6    176.6   177.6        166.8            175.6   \n",
      "10303        0.0      0.0   120.0          0.0            101.2   \n",
      "\n",
      "       Southern_Ont_Average  Northern_Ont_Average                  Fuel Type  \n",
      "0                      49.5                  56.2  Regular Unleaded Gasoline  \n",
      "1                      47.9                  46.2                     Diesel  \n",
      "2                       0.0                   0.0     Compressed Natural Gas  \n",
      "3                      51.7                  58.5         Mid-Grade Gasoline  \n",
      "4                      53.4                  59.9           Premium Gasoline  \n",
      "...                     ...                   ...                        ...  \n",
      "10299                 167.7                 173.8                     Diesel  \n",
      "10300                   0.0                   0.0     Compressed Natural Gas  \n",
      "10301                 168.3                 165.9         Mid-Grade Gasoline  \n",
      "10302                 175.8                 173.8           Premium Gasoline  \n",
      "10303                 100.4                 119.1               Auto Propane  \n",
      "\n",
      "[10304 rows x 19 columns]\n"
     ]
    }
   ],
   "source": [
    "print (fuel_rates)"
   ]
  },
  {
   "cell_type": "code",
   "execution_count": 16,
   "id": "caf0e562",
   "metadata": {},
   "outputs": [],
   "source": [
    "# Save the updated DataFrame back to a CSV file\n",
    "fuel_rates.to_csv('output_file.csv', index=False)"
   ]
  },
  {
   "cell_type": "code",
   "execution_count": null,
   "id": "9b0e110a",
   "metadata": {},
   "outputs": [],
   "source": []
  }
 ],
 "metadata": {
  "kernelspec": {
   "display_name": "Python 3 (ipykernel)",
   "language": "python",
   "name": "python3"
  },
  "language_info": {
   "codemirror_mode": {
    "name": "ipython",
    "version": 3
   },
   "file_extension": ".py",
   "mimetype": "text/x-python",
   "name": "python",
   "nbconvert_exporter": "python",
   "pygments_lexer": "ipython3",
   "version": "3.9.13"
  }
 },
 "nbformat": 4,
 "nbformat_minor": 5
}
